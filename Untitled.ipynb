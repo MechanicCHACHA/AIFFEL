{
 "cells": [
  {
   "cell_type": "code",
   "execution_count": 2,
   "id": "42e20f50",
   "metadata": {},
   "outputs": [
    {
     "name": "stdout",
     "output_type": "stream",
     "text": [
      "정수를 입력하세요5\n",
      "5\n"
     ]
    }
   ],
   "source": [
    "def sum(n):\n",
    "    #num = 0\n",
    "    \n",
    "   # for i in range(1, n+1):\n",
    "    #    num += i  \n",
    "        \n",
    "    return num\n",
    "    return num+1\n",
    "    return num+2\n",
    "    \n",
    "num = int(input(\"정수를 입력하세요\"))\n",
    "\n",
    "\n",
    "print(sum(num))"
   ]
  },
  {
   "cell_type": "code",
   "execution_count": null,
   "id": "91af95ff",
   "metadata": {},
   "outputs": [],
   "source": []
  },
  {
   "cell_type": "code",
   "execution_count": null,
   "id": "6d784117",
   "metadata": {},
   "outputs": [],
   "source": []
  },
  {
   "cell_type": "code",
   "execution_count": null,
   "id": "e93bd391",
   "metadata": {},
   "outputs": [],
   "source": []
  }
 ],
 "metadata": {
  "kernelspec": {
   "display_name": "Python 3 (ipykernel)",
   "language": "python",
   "name": "python3"
  },
  "language_info": {
   "codemirror_mode": {
    "name": "ipython",
    "version": 3
   },
   "file_extension": ".py",
   "mimetype": "text/x-python",
   "name": "python",
   "nbconvert_exporter": "python",
   "pygments_lexer": "ipython3",
   "version": "3.9.7"
  }
 },
 "nbformat": 4,
 "nbformat_minor": 5
}
